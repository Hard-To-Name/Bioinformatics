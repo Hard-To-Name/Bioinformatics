{
 "cells": [
  {
   "cell_type": "code",
   "execution_count": 23,
   "metadata": {},
   "outputs": [],
   "source": [
    "f = open(\"W303_reference.fasta\", 'r')\n",
    "string = f.read()"
   ]
  },
  {
   "cell_type": "code",
   "execution_count": 24,
   "metadata": {},
   "outputs": [],
   "source": [
    "lookup_table = []\n",
    "index = 0\n",
    "for char in string:\n",
    "    if char == '>':\n",
    "        lookup_table.append(index)\n",
    "    index += 1\n",
    "lookup_table.append(index)"
   ]
  },
  {
   "cell_type": "code",
   "execution_count": 25,
   "metadata": {},
   "outputs": [],
   "source": [
    "f.close()"
   ]
  },
  {
   "cell_type": "code",
   "execution_count": 26,
   "metadata": {},
   "outputs": [],
   "source": [
    "def look_up(i):\n",
    "    # I found that seek() does not need a lookup table\n",
    "    # because one contig with its title is all in one line\n",
    "    f = open(\"W303_reference.fasta\", 'r')\n",
    "    f.seek(lookup_table[i])\n",
    "    single_file_string = f.read(lookup_table[i + 1] - lookup_table[i])\n",
    "    result = open(\"output.fasta\", 'w')\n",
    "    result.write(single_file_string)\n",
    "    f.close()"
   ]
  },
  {
   "cell_type": "code",
   "execution_count": 28,
   "metadata": {},
   "outputs": [],
   "source": [
    "# read the contig of zero-based index 4,\n",
    "# then output single-line fasta file \"output.fasta\"\n",
    "look_up(4)"
   ]
  },
  {
   "cell_type": "code",
   "execution_count": null,
   "metadata": {},
   "outputs": [],
   "source": []
  }
 ],
 "metadata": {
  "kernelspec": {
   "display_name": "Python 3",
   "language": "python",
   "name": "python3"
  },
  "language_info": {
   "codemirror_mode": {
    "name": "ipython",
    "version": 3
   },
   "file_extension": ".py",
   "mimetype": "text/x-python",
   "name": "python",
   "nbconvert_exporter": "python",
   "pygments_lexer": "ipython3",
   "version": "3.6.7"
  }
 },
 "nbformat": 4,
 "nbformat_minor": 2
}
