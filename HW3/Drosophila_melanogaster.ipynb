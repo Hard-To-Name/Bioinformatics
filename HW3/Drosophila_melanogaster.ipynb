{
 "cells": [
  {
   "cell_type": "code",
   "execution_count": 95,
   "metadata": {},
   "outputs": [],
   "source": [
    "import pandas as pd\n",
    "import seaborn as sns\n",
    "import matplotlib.pyplot as plt\n",
    "import numpy as np\n",
    "\n",
    "sns.set()"
   ]
  },
  {
   "cell_type": "code",
   "execution_count": 1,
   "metadata": {},
   "outputs": [],
   "source": [
    "f = open(\"test.fasta\", 'r')\n",
    "lines = f.readlines()\n",
    "\n",
    "contigs = []\n",
    "cur_string = \"\"\n",
    "N_count = 0\n",
    "\n",
    "for line in lines:\n",
    "    if line[0] == '>':\n",
    "        cur_string = cur_string.strip('N')\n",
    "        if not cur_string == \"\":\n",
    "            contigs.append(cur_string)\n",
    "            cur_string = \"\"\n",
    "    line = line.rstrip('\\n')\n",
    "    for c in line:\n",
    "        cur_string += c\n",
    "        if c == 'N':\n",
    "            N_count += 1\n",
    "            if N_count >= 10:\n",
    "                cur_string = cur_string.strip('N')\n",
    "                if not cur_string == \"\":\n",
    "                    contigs.append(cur_string)\n",
    "                    cur_string = \"\"\n",
    "        else:\n",
    "            N_count = 0"
   ]
  },
  {
   "cell_type": "code",
   "execution_count": 10,
   "metadata": {},
   "outputs": [],
   "source": [
    "data_len = pd.Series([len(c) for c in contigs])\n",
    "data_len_small = data_len[data_len <= 50000]\n",
    "data_len_large = data_len[data_len > 50000]"
   ]
  },
  {
   "cell_type": "code",
   "execution_count": 14,
   "metadata": {},
   "outputs": [
    {
     "data": {
      "text/plain": [
       "<matplotlib.axes._subplots.AxesSubplot at 0x48669d0>"
      ]
     },
     "execution_count": 14,
     "metadata": {},
     "output_type": "execute_result"
    },
    {
     "data": {
      "image/png": "[encoded data removed]",
      "text/plain": [
       "<Figure size 432x288 with 1 Axes>"
      ]
     },
     "metadata": {},
     "output_type": "display_data"
    }
   ],
   "source": [
    "sns.distplot(data_len_small, bins = 50, kde = False)"
   ]
  },
  {
   "cell_type": "code",
   "execution_count": 15,
   "metadata": {},
   "outputs": [
    {
     "data": {
      "text/plain": [
       "<matplotlib.axes._subplots.AxesSubplot at 0x48d6210>"
      ]
     },
     "execution_count": 15,
     "metadata": {},
     "output_type": "execute_result"
    },
    {
     "data": {
      "image/png": "[encoded data removed]",
      "text/plain": [
       "<Figure size 432x288 with 1 Axes>"
      ]
     },
     "metadata": {},
     "output_type": "display_data"
    }
   ],
   "source": [
    "sns.distplot(data_len_large, bins = 50, kde = False)"
   ]
  },
  {
   "cell_type": "code",
   "execution_count": 16,
   "metadata": {},
   "outputs": [],
   "source": [
    "ref = open(\"dmel-all-chromosome-r6.24.fasta\", 'r')\n",
    "lines = ref.readlines()\n",
    "\n",
    "ref_contigs = []\n",
    "cur_string = \"\"\n",
    "N_count = 0\n",
    "\n",
    "for line in lines:\n",
    "    if line[0] == '>':\n",
    "        cur_string = cur_string.strip('N')\n",
    "        if not cur_string == \"\":\n",
    "            ref_contigs.append(cur_string)\n",
    "            cur_string = \"\"\n",
    "    line = line.rstrip('\\n')\n",
    "    for c in line:\n",
    "        cur_string += c\n",
    "        if c == 'N':\n",
    "            N_count += 1\n",
    "            if N_count >= 10:\n",
    "                cur_string = cur_string.strip('N')\n",
    "                if not cur_string == \"\":\n",
    "                    ref_contigs.append(cur_string)\n",
    "                    cur_string = \"\"\n",
    "        else:\n",
    "            N_count = 0"
   ]
  },
  {
   "cell_type": "code",
   "execution_count": 91,
   "metadata": {},
   "outputs": [],
   "source": [
    "ref_data_len = pd.Series([len(c) for c in ref_contigs])\n",
    "s1 = data_len.sort_values()\n",
    "s2 = ref_data_len.sort_values()"
   ]
  },
  {
   "cell_type": "code",
   "execution_count": 101,
   "metadata": {},
   "outputs": [
    {
     "name": "stderr",
     "output_type": "stream",
     "text": [
      "d:\\python\\lib\\site-packages\\scipy\\stats\\stats.py:1713: FutureWarning: Using a non-tuple sequence for multidimensional indexing is deprecated; use `arr[tuple(seq)]` instead of `arr[seq]`. In the future this will be interpreted as an array index, `arr[np.array(seq)]`, which will result either in an error or a different result.\n",
      "  return np.add.reduce(sorted[indexer] * weights, axis=axis) / sumval\n"
     ]
    },
    {
     "data": {
      "text/plain": [
       "[Text(0,0.5,'portion'), Text(0.5,0,'read length')]"
      ]
     },
     "execution_count": 101,
     "metadata": {},
     "output_type": "execute_result"
    },
    {
     "data": {
      "image/png": "[encoded data removed]",
      "text/plain": [
       "<Figure size 432x288 with 1 Axes>"
      ]
     },
     "metadata": {},
     "output_type": "display_data"
    }
   ],
   "source": [
    "total = sum(s1)\n",
    "s11 = s1 / total\n",
    "s11 = s11.cumsum()\n",
    "ax = sns.lineplot(s1, s11)\n",
    "\n",
    "total = sum(s2)\n",
    "s22 = s2 / total\n",
    "s22 = s22.cumsum()\n",
    "ax = sns.lineplot(s2, s22)\n",
    "\n",
    "ax.set(xlabel = \"read length\", ylabel = \"portion\")"
   ]
  },
  {
   "cell_type": "code",
   "execution_count": null,
   "metadata": {},
   "outputs": [],
   "source": []
  }
 ],
 "metadata": {
  "kernelspec": {
   "display_name": "Python 3",
   "language": "python",
   "name": "python3"
  },
  "language_info": {
   "codemirror_mode": {
    "name": "ipython",
    "version": 3
   },
   "file_extension": ".py",
   "mimetype": "text/x-python",
   "name": "python",
   "nbconvert_exporter": "python",
   "pygments_lexer": "ipython3",
   "version": "3.6.5"
  }
 },
 "nbformat": 4,
 "nbformat_minor": 2
}
